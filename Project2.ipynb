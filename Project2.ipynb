{
  "nbformat": 4,
  "nbformat_minor": 0,
  "metadata": {
    "colab": {
      "provenance": [],
      "authorship_tag": "ABX9TyPXGsVQH779kXMKKwIQCDYp",
      "include_colab_link": true
    },
    "kernelspec": {
      "name": "python3",
      "display_name": "Python 3"
    },
    "language_info": {
      "name": "python"
    }
  },
  "cells": [
    {
      "cell_type": "markdown",
      "metadata": {
        "id": "view-in-github",
        "colab_type": "text"
      },
      "source": [
        "<a href=\"https://colab.research.google.com/github/sujit15-code/python_-projects/blob/main/Project2.ipynb\" target=\"_parent\"><img src=\"https://colab.research.google.com/assets/colab-badge.svg\" alt=\"Open In Colab\"/></a>"
      ]
    },
    {
      "cell_type": "markdown",
      "source": [
        "# **CALCULATOR USING PYTHON**"
      ],
      "metadata": {
        "id": "wWtjqDTC5hyk"
      }
    },
    {
      "cell_type": "code",
      "execution_count": 1,
      "metadata": {
        "colab": {
          "base_uri": "https://localhost:8080/"
        },
        "id": "MFyxNH-z5gbX",
        "outputId": "32529d46-fe1b-4783-be2b-2e691a1dae58"
      },
      "outputs": [
        {
          "output_type": "stream",
          "name": "stdout",
          "text": [
            "Please select a operation : \n",
            "1. Addition\n",
            "2. Subtraction\n",
            "3. Multiplication\n",
            "4. Division \n",
            "5. Average\n",
            "select a operation from 1,2,3,4,5 : 2\n",
            "enter first number : 50\n",
            "enter second number : 45\n",
            "5\n"
          ]
        }
      ],
      "source": [
        "# step 1 : create functions\n",
        "\n",
        "def add(num1, num2):\n",
        "  return num1 + num2\n",
        "\n",
        "def sub(num1, num2):\n",
        "  return num1 - num2\n",
        "\n",
        "def mul(num1, num2):\n",
        "  return num1 * num2\n",
        "\n",
        "def div(num1, num2):\n",
        "  if num2 > 0:\n",
        "    return num1 // num2\n",
        "  else:\n",
        "    return 'Denominator must be greter than 0'\n",
        "\n",
        "def avg(num1, num2):\n",
        "  return (num1 + num2)//2\n",
        "\n",
        "\n",
        "#step 2 : user input\n",
        "\n",
        "print('Please select a operation : \\n' \\\n",
        "      \"1. Addition\\n\"\\\n",
        "      \"2. Subtraction\\n\"\\\n",
        "      \"3. Multiplication\\n\"\\\n",
        "      \"4. Division \\n\"\\\n",
        "      \"5. Average\"\n",
        "      )\n",
        "\n",
        "select = int(input('select a operation from 1,2,3,4,5 : '))\n",
        "number1 = int(input('enter first number : '))\n",
        "number2 = int(input('enter second number : '))\n",
        "\n",
        "if select == 1:\n",
        "  print(add(number1, number2))\n",
        "if select == 2:\n",
        "  print(sub(number1, number2))\n",
        "if select == 3:\n",
        "  print(mul(number1, number2))\n",
        "if select == 4:\n",
        "  print(div(number1, number2))\n",
        "if select == 5:\n",
        "  print(avg(number1, number2))\n",
        "\n"
      ]
    }
  ]
}